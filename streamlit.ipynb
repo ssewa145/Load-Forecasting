{
  "nbformat": 4,
  "nbformat_minor": 0,
  "metadata": {
    "colab": {
      "name": "streamlit.ipynb",
      "provenance": [],
      "collapsed_sections": [],
      "authorship_tag": "ABX9TyPh2+CLEX0Eub5PD+oT/ehc",
      "include_colab_link": true
    },
    "kernelspec": {
      "name": "python3",
      "display_name": "Python 3"
    },
    "language_info": {
      "name": "python"
    }
  },
  "cells": [
    {
      "cell_type": "markdown",
      "metadata": {
        "id": "view-in-github",
        "colab_type": "text"
      },
      "source": [
        "<a href=\"https://colab.research.google.com/github/ssewa145/Load-Forecasting/blob/main/streamlit.ipynb\" target=\"_parent\"><img src=\"https://colab.research.google.com/assets/colab-badge.svg\" alt=\"Open In Colab\"/></a>"
      ]
    },
    {
      "cell_type": "code",
      "source": [
        "import xgboost as xgb\n",
        "import tensorflow as tf\n",
        "import pandas as pd\n",
        "import streamlit as st\n",
        "from sklearn.compose import ColumnTransformer\n",
        "from sklearn.preprocessing import StandardScaler\n",
        "standard_scaler = StandardScaler()\n",
        "\n",
        "from keras.initializers import glorot_uniform\n",
        "#Reading the model from JSON file\n",
        "with open('loadfc_model.json', 'r') as json_file:\n",
        "    json_savedModel= json_file.read()\n",
        "#load the model architecture \n",
        "model = tf.keras.models.model_from_json(json_savedModel)\n",
        "\n",
        "\n",
        "def web_app():\n",
        "  st.write(\"\"\"\n",
        "  # Load Forecast Web App\n",
        "  ## This app predicts whether cancer is Benign or Malignant.\n",
        "  \"\"\")\n",
        "  st.header(\"User Details\")\n",
        "  st.subheader(\"Kindely Enter The following Details in order to make a prediction\")\n",
        "  T2M_toc = st.number_input(\"Temperature of Tocumen\",0,10)\n",
        "  QV2M_toc = st.number_input(\"Relative Humidity of Tocumen\",0,10)\n",
        "  TQL_toc = st.number_input(\"Liquid Precipitation of Tocumen\",0,10)\n",
        "  W2M_toc = st.number_input(\"Wind Speed of Tocumen\",0,10)\n",
        "  T2M_san = st.number_input(\"Temperature of San\",0,10)\n",
        "  QV2M_san = st.number_input(\"Relative Humidity of San\",0,10)\n",
        "  TQL_san = st.number_input(\"Liquid Precipitation of San\",0,10)\n",
        "  W2M_san = st.number_input(\"Wind Speed of San\",0,10)\n",
        "  T2M_dav = st.number_input(\"Temperature of Dav\",0,10)\n",
        "  QV2M_dav = st.number_input(\"Relative Humidity of Dav\",0,10)\n",
        "  TQL_dav = st.number_input(\"Liquid Precipitation of Dav\",0,10)\n",
        "  W2M_dav = st.number_input(\"Wind Speed of Dav\",0,10)\n",
        "  Holiday_ID = st.number_input(\"Nature of Holiday\",0,10)\n",
        "  holiday = st.number_input(\"Holiday\",0,10)\n",
        "  school = st.number_input(\"School Holiday\",0,10)\n",
        "  hour = st.number_input(\"Hour of Day\",0,10)\n",
        "  month = st.number_input(\"Month\",0,10)\n",
        "  day = st.str_input(\"Day of the Week\",0,10)\n",
        "  \n",
        "  input_data = T2M_toc,QV2M_toc,TQL_toc,W2M_toc,T2M_san,QV2M_san,TQL_san,W2M_san,T2M_dav,QV2M_dav,TQL_dav,W2M_dav,Holiday_ID,holiday,school,hour,month,day\n",
        "  scaler = StandardScaler().fit(input_data.values)\n",
        "  input_data = scaler.transform(input_data.values)\n",
        "\n",
        "  x_train_scaled[col_names] = factors\n",
        "  \n",
        "  result = model.predict([[input_data]])\n",
        "  st.text_area(label='Load predition is:- ',value=result , height= 100)\n",
        "\n",
        "if st.button(\"Press here to make Prediction\"):\n",
        "  run = web_app()\n",
        "\n"
      ],
      "metadata": {
        "id": "QiT6R1kD3JMb"
      },
      "execution_count": 15,
      "outputs": []
    }
  ]
}